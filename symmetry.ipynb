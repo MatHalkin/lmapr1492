{
 "cells": [
  {
   "cell_type": "code",
   "execution_count": 9,
   "id": "typical-plenty",
   "metadata": {},
   "outputs": [],
   "source": [
    "from pymatgen.ext.matproj import MPRester\n",
    "from pymatgen import Structure\n",
    "from jupyter_jsmol.pymatgen import quick_view\n",
    "with MPRester(\"HrfUZDx1jL7J7TxiIVp\") as m:\n",
    "\n",
    "    Structure = m.get_structure_by_material_id(\"mp-961693\")\n",
    "    \n",
    "    \n",
    "view = quick_view(Structure)\n",
    "display(view)"
   ]
  },
  {
   "cell_type": "code",
   "execution_count": 11,
   "id": "acquired-nurse",
   "metadata": {},
   "outputs": [],
   "source": [
    "view.script('draw symop 2 {atomno=3}')"
   ]
  },
  {
   "cell_type": "markdown",
   "id": "studied-fireplace",
   "metadata": {},
   "source": [
    "la première symétrie a pour équation: x, y, z -> -x, -y, -z\n",
    "\n",
    "Cela a pour effet de changer les coordonnées de l'atome numéro 3 (un atome de Au) de ses coordonnées de bases (0.25,0.25,0.25)  en de nouvelles coordonnées (-0.25,-0.25,-0.25).\n",
    "\n",
    "Comme les nouvelles coordonées sont en dehors de la maille, nous utilisons une translation pour le representé dans la maille. \n",
    "\n",
    "Cette symétrie est une inversion de centre (0,0,0)."
   ]
  },
  {
   "cell_type": "code",
   "execution_count": 13,
   "id": "narrow-complaint",
   "metadata": {},
   "outputs": [],
   "source": [
    "view.script('draw symop 3 {atomno=2}')"
   ]
  },
  {
   "cell_type": "markdown",
   "id": "impossible-progressive",
   "metadata": {},
   "source": [
    "La seconde symétrie a pour équation: x, y, z -> x-y, x, z+1/2 .\n",
    "\n",
    "Cela a pour effet de changer les coordonnées de l'atome numéro 2 (qui est un atome de In) de ses coordonnées de bases (0.0,0.0,0.5) à de nouvelles coordonnées \n",
    "(0.0, 0.0, 1.0).\n",
    "\n",
    "L'atome se trouve à la place d'un atome de Zr\n",
    "\n",
    "Cette symétrie est une rotation hélicoïdale 6_3 d'axe c, c'est à dire que l'atome 2 subit une rotation de pi/3 autour de l'axe défini par c (0,0,1) dans le sens anti-horlogique, et une translation de 1/2 c dans la direction z positive. Sauf que l'atome se trouvant sur l'axe c(0,0,1) la rotation en change rien."
   ]
  },
  {
   "cell_type": "code",
   "execution_count": null,
   "id": "excellent-drove",
   "metadata": {},
   "outputs": [],
   "source": [
    "view.script('draw symop 2 {atomno=1}')"
   ]
  },
  {
   "cell_type": "markdown",
   "id": "cordless-morris",
   "metadata": {},
   "source": [
    "la troisième symétrie a pour équation: x, y, z -> x, y, -z+1/2\n",
    "\n",
    "Cela a pour effet de changer les coordonnées de l'atome numéro 1(un atome de Zr) de ses coordonnées de bases (0.0,0.0,0.0)  en de nouvelles coordonnées (0.0, 0.0, 0.5).\n",
    "\n",
    "L'atome se trouve donc à la place de l'atome 2.\n",
    "\n",
    "Cette symétrie est une refléxion par rapport au plan (0,0,4) et dans le cas de cet atome, une translation de 1/2 selon l'axe des z."
   ]
  }
 ],
 "metadata": {
  "kernelspec": {
   "display_name": "Python 3",
   "language": "python",
   "name": "python3"
  },
  "language_info": {
   "codemirror_mode": {
    "name": "ipython",
    "version": 3
   },
   "file_extension": ".py",
   "mimetype": "text/x-python",
   "name": "python",
   "nbconvert_exporter": "python",
   "pygments_lexer": "ipython3",
   "version": "3.6.8"
  }
 },
 "nbformat": 4,
 "nbformat_minor": 5
}
