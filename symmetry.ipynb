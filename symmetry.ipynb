{
 "cells": [
  {
   "cell_type": "code",
   "execution_count": 11,
   "id": "5b30ac3c",
   "metadata": {},
   "outputs": [],
   "source": [
    "from pymatgen.ext.matproj import MPRester\n",
    "from pymatgen.io.cif import CifWriter\n",
    "from pymatgen.symmetry.analyzer import *\n",
    "from pymatgen.io.cif import *\n",
    "from pymatgen.core.operations import *\n",
    "from tabulate import tabulate\n",
    "from pymatgen.symmetry.site_symmetries import *\n",
    "import matplotlib.pyplot as plt\n",
    "import matplotlib.image as mpimg\n",
    "from jupyter_jsmol.pymatgen import quick_view\n",
    "from jupyter_jsmol import JsmolView\n",
    "from ipywidgets import Layout, widgets, interact\n"
   ]
  },
  {
   "cell_type": "code",
   "execution_count": 12,
   "id": "185467d8",
   "metadata": {},
   "outputs": [
    {
     "data": {
      "application/vnd.jupyter.widget-view+json": {
       "model_id": "d01444f55e87490ea82bcfeb99379704",
       "version_major": 2,
       "version_minor": 0
      },
      "text/plain": [
       "Retrieving MaterialsDoc documents:   0%|          | 0/1 [00:00<?, ?it/s]"
      ]
     },
     "metadata": {},
     "output_type": "display_data"
    }
   ],
   "source": [
    "#Téléchargement de la structure\n",
    "with MPRester(\"HyfUIH7nOGea4sWi3HeF3B4Yjjv5SgwQ\") as m:\n",
    "    structure = m.get_structure_by_material_id(\"mp-961675\")"
   ]
  },
  {
   "cell_type": "code",
   "execution_count": 13,
   "id": "a0976567",
   "metadata": {},
   "outputs": [
    {
     "name": "stdout",
     "output_type": "stream",
     "text": [
      "Sc :  [0.  0.  0.5]\n",
      "Ni :  [0.25 0.25 0.75]\n",
      "P :  [0. 0. 0.]\n"
     ]
    }
   ],
   "source": [
    "#Structure conventionnelle\n",
    "conv_structure = SpacegroupAnalyzer(structure).get_conventional_standard_structure()\n",
    "\n",
    "#Tableau des symétries\n",
    "sym_tab = SpacegroupAnalyzer(conv_structure).get_symmetry_operations()\n",
    "#Sites des différents atomes dans la maille\n",
    "atom_sites = conv_structure.sites\n",
    "\n",
    "\n",
    "#Coordonnées de 3 atomes différents avant symétrie :\n",
    "Sc = atom_sites[2].frac_coords\n",
    "Ni = atom_sites[4].frac_coords\n",
    "P = atom_sites[8].frac_coords\n",
    "print(\"Sc : \",Sc)\n",
    "print(\"Ni : \",Ni)\n",
    "print(\"P : \",P)"
   ]
  },
  {
   "cell_type": "markdown",
   "id": "51affd73",
   "metadata": {},
   "source": [
    "# Symétrie sur l'atome de Scandium (Sc)"
   ]
  },
  {
   "cell_type": "code",
   "execution_count": 14,
   "id": "8bbfbffd",
   "metadata": {},
   "outputs": [
    {
     "name": "stdout",
     "output_type": "stream",
     "text": [
      "Opération de symétrie : axe de rotation d'ordre 4 autour de l'axe a\n",
      "Opérateur sous forme matricielle : \n",
      " [[-1.  0.  0.]\n",
      " [ 0.  0. -1.]\n",
      " [ 0.  1.  0.]]\n",
      "Vecteur de translation : \n",
      " [0. 0. 0.] \n",
      " Aucune translation car c'est une rotation\n",
      "\n",
      "\n",
      "Coordonnées de l'atome Sc avant symétrie :  [0.  0.  0.5]\n",
      "Coordonnées de l'atome Sc après 1/4 de rotation :  [ 0.  -0.5  0. ]\n",
      "Coordonnées de l'atome Sc après 1/2 de rotation :  [ 0.   0.  -0.5]\n",
      "Coordonnées de l'atome Sc après 3/4 de rotation :  [0.  0.5 0. ]\n",
      "Coordonnées de l'atome Sc après 1 rotation complete :  [0.  0.  0.5]\n"
     ]
    }
   ],
   "source": [
    "Sc_sym = sym_tab[17].operate(Sc)\n",
    "\n",
    "print(\"Opération de symétrie : axe de rotation d'ordre 4 autour de l'axe a\")\n",
    "print(\"Opérateur sous forme matricielle : \\n\", sym_tab[17].rotation_matrix)\n",
    "print(\"Vecteur de translation : \\n\", sym_tab[17].translation_vector , \"\\n Aucune translation car c'est une rotation\")\n",
    "print(\"\\n\")\n",
    "print(\"Coordonnées de l'atome Sc avant symétrie : \",Sc)\n",
    "print(\"Coordonnées de l'atome Sc après 1/4 de rotation : \", Sc_sym)\n",
    "print(\"Coordonnées de l'atome Sc après 1/2 de rotation : \", sym_tab[17].operate(Sc_sym))\n",
    "print(\"Coordonnées de l'atome Sc après 3/4 de rotation : \", sym_tab[17].operate(sym_tab[17].operate(Sc_sym)))\n",
    "print(\"Coordonnées de l'atome Sc après 1 rotation complete : \", sym_tab[17].operate(sym_tab[17].operate(sym_tab[17].operate(Sc_sym))))"
   ]
  },
  {
   "cell_type": "code",
   "execution_count": 15,
   "id": "270d1e7e",
   "metadata": {
    "scrolled": true
   },
   "outputs": [],
   "source": [
    "#Représentation selon jupyter-jsmol\n",
    "#view = quick_view(conv_structure, supercell= [1,1,1])\n",
    "#display(view)\n",
    "#view.script('draw symop 79 {atomno = 38}; select atomno=38; label on; color red')"
   ]
  },
  {
   "cell_type": "markdown",
   "id": "fcdfae5e",
   "metadata": {},
   "source": [
    "# Symétrie sur l'atome de Nickel (Ni)"
   ]
  },
  {
   "cell_type": "code",
   "execution_count": 16,
   "id": "5d3a1e8c",
   "metadata": {},
   "outputs": [
    {
     "name": "stdout",
     "output_type": "stream",
     "text": [
      "Opération de symétrie : rotation hélicoidale d'ordre 2 autour de l'axe b\n",
      "Opérateur sous forme matricielle : \n",
      " [[-1.  0.  0.]\n",
      " [ 0.  1.  0.]\n",
      " [ 0.  0. -1.]]\n",
      "Vecteur de translation : \n",
      " [0.  0.5 0.5] \n",
      " Translation de 0.5 en b et en c\n",
      "\n",
      "\n",
      "Coordonnées de l'atome Ni avant symétrie :  [0.25 0.25 0.75]\n",
      "Coordonnées de l'atome Ni après symétrie :  [-0.25  0.75 -0.25]\n"
     ]
    }
   ],
   "source": [
    "Ni_sym = sym_tab[78].operate(Ni)\n",
    "\n",
    "print(\"Opération de symétrie : rotation hélicoidale d'ordre 2 autour de l'axe b\")\n",
    "print(\"Opérateur sous forme matricielle : \\n\", sym_tab[78].rotation_matrix)\n",
    "print(\"Vecteur de translation : \\n\", sym_tab[78].translation_vector,\"\\n Translation de 0.5 en b et en c\")\n",
    "print(\"\\n\")\n",
    "print(\"Coordonnées de l'atome Ni avant symétrie : \",Ni)\n",
    "print(\"Coordonnées de l'atome Ni après symétrie : \", Ni_sym)"
   ]
  },
  {
   "cell_type": "code",
   "execution_count": 17,
   "id": "85828f53",
   "metadata": {},
   "outputs": [],
   "source": [
    "#Représentation selon jupyter-jsmol\n",
    "#view = quick_view(conv_structure,supercell=[1,1,1])\n",
    "#display(view)\n",
    "#view.script('draw symop 3 {atomno = 2}; select atomno=2; label on; color red')"
   ]
  },
  {
   "cell_type": "markdown",
   "id": "4161c732",
   "metadata": {},
   "source": [
    "# Symétrie sur l'atome de Potasium (P)"
   ]
  },
  {
   "cell_type": "code",
   "execution_count": 18,
   "id": "6030bac4",
   "metadata": {},
   "outputs": [
    {
     "name": "stdout",
     "output_type": "stream",
     "text": [
      "Opération de symétrie : plan miroir\n",
      "Opérateur sous forme matricielle : \n",
      " [[1. 0. 0.]\n",
      " [0. 0. 1.]\n",
      " [0. 1. 0.]]\n",
      "Vecteur de translation : \n",
      " [0. 0. 0.] \n",
      " Aucune translation car c'est un plan miroir\n",
      "\n",
      "\n",
      "Coordonnées de l'atome P avant symétrie :  [0. 0. 0.]\n",
      "Coordonnées de l'atome P après symétrie :  [0. 0. 0.]\n"
     ]
    }
   ],
   "source": [
    "P_sym = sym_tab[21].operate(P)\n",
    "\n",
    "print(\"Opération de symétrie : plan miroir\")\n",
    "print(\"Opérateur sous forme matricielle : \\n\", sym_tab[21].rotation_matrix)\n",
    "print(\"Vecteur de translation : \\n\", sym_tab[21].translation_vector,\"\\n Aucune translation car c'est un plan miroir\")\n",
    "print(\"\\n\")\n",
    "print(\"Coordonnées de l'atome P avant symétrie : \",P)\n",
    "print(\"Coordonnées de l'atome P après symétrie : \", P_sym)"
   ]
  },
  {
   "cell_type": "code",
   "execution_count": 19,
   "id": "7dfb2710",
   "metadata": {},
   "outputs": [],
   "source": [
    "#Représentation selon jupyter-jsmol\n",
    "#view = quick_view(conv_structure,supercell=[1,1,1])\n",
    "#display(view)\n",
    "#view.script('draw symop 20 {atomno = 3}; select atomno=3; label on; color red')"
   ]
  }
 ],
 "metadata": {
  "kernelspec": {
   "display_name": "Python 3 (ipykernel)",
   "language": "python",
   "name": "python3"
  },
  "language_info": {
   "codemirror_mode": {
    "name": "ipython",
    "version": 3
   },
   "file_extension": ".py",
   "mimetype": "text/x-python",
   "name": "python",
   "nbconvert_exporter": "python",
   "pygments_lexer": "ipython3",
   "version": "3.9.13"
  }
 },
 "nbformat": 4,
 "nbformat_minor": 5
}
