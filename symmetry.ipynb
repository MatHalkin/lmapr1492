{
 "cells": [
  {
   "cell_type": "code",
   "execution_count": 1,
   "id": "5b30ac3c",
   "metadata": {},
   "outputs": [],
   "source": [
    "from pymatgen.ext.matproj import MPRester\n",
    "from pymatgen.io.cif import CifWriter\n",
    "from pymatgen.symmetry.analyzer import *\n",
    "from pymatgen.io.cif import *\n",
    "from pymatgen.core.operations import *\n",
    "from tabulate import tabulate\n",
    "from pymatgen.symmetry.site_symmetries import *\n",
    "import matplotlib.pyplot as plt\n",
    "import matplotlib.image as mpimg\n",
    "from jupyter_jsmol.pymatgen import quick_view\n",
    "from jupyter_jsmol import JsmolView\n",
    "from ipywidgets import Layout, widgets, interact\n"
   ]
  },
  {
   "cell_type": "code",
   "execution_count": 2,
   "id": "185467d8",
   "metadata": {},
   "outputs": [
    {
     "data": {
      "application/vnd.jupyter.widget-view+json": {
       "model_id": "5c9fda6fdf3040bf93e87ca86290bf7f",
       "version_major": 2,
       "version_minor": 0
      },
      "text/plain": [
       "Retrieving MaterialsDoc documents:   0%|          | 0/1 [00:00<?, ?it/s]"
      ]
     },
     "metadata": {},
     "output_type": "display_data"
    }
   ],
   "source": [
    "#Téléchargement de la structure\n",
    "with MPRester(\"hmw6pW1cor3J4GZAFSNqM0zr9UVBkxjF\") as m:\n",
    "    structure = m.get_structure_by_material_id(\"mp-7017\")"
   ]
  },
  {
   "cell_type": "code",
   "execution_count": 3,
   "id": "a0976567",
   "metadata": {
    "scrolled": false
   },
   "outputs": [
    {
     "name": "stdout",
     "output_type": "stream",
     "text": [
      "Nb :  [0. 0. 0.]\n",
      "N :  [0.66666667 0.33333333 0.06548215]\n",
      "Na :  [0.33333333 0.66666667 0.16666667]\n"
     ]
    }
   ],
   "source": [
    "#Structure conventionnelle\n",
    "conv_structure = SpacegroupAnalyzer(structure).get_conventional_standard_structure()\n",
    "\n",
    "#Tableau des symétries\n",
    "sym_tab = SpacegroupAnalyzer(conv_structure).get_symmetry_operations()\n",
    "#Sites des différents atomes dans la maille\n",
    "atom_sites = conv_structure.sites\n",
    "\n",
    "#Coordonnées de 3 atomes différents avant symétrie :\n",
    "Nb = atom_sites[3].frac_coords\n",
    "N = atom_sites[6].frac_coords\n",
    "Na = atom_sites[0].frac_coords\n",
    "print(\"Nb : \",Nb)\n",
    "print(\"N : \",N)\n",
    "print(\"Na : \",Na)\n",
    "###Na=0 Nb=3"
   ]
  },
  {
   "cell_type": "markdown",
   "id": "51affd73",
   "metadata": {},
   "source": [
    "# Symétrie sur l'atome de Azote (N)"
   ]
  },
  {
   "cell_type": "code",
   "execution_count": 4,
   "id": "8bbfbffd",
   "metadata": {},
   "outputs": [
    {
     "name": "stdout",
     "output_type": "stream",
     "text": [
      "Opération de symétrie : symétrie par rapport au point (0,0,0)\n",
      "Opérateur sous forme matricielle : \n",
      " [[-1.  0.  0.]\n",
      " [ 0. -1.  0.]\n",
      " [ 0.  0. -1.]]\n",
      "Vecteur de translation : \n",
      " [0. 0. 0.] \n",
      " Aucune translation car c'est une symétrie\n",
      "\n",
      "\n",
      "Coordonnées de l'atome Sc avant symétrie :  [0.66666667 0.33333333 0.06548215]\n",
      "Coordonnées de l'atome Sc après symétrie :  [-0.66666667 -0.33333333 -0.06548215]\n"
     ]
    }
   ],
   "source": [
    "N_sym = sym_tab[1].operate(N)\n",
    "\n",
    "print(\"Opération de symétrie : symétrie par rapport au point (0,0,0)\")\n",
    "print(\"Opérateur sous forme matricielle : \\n\", sym_tab[1].rotation_matrix)\n",
    "print(\"Vecteur de translation : \\n\", sym_tab[1].translation_vector , \"\\n Aucune translation car c'est une symétrie\")\n",
    "print(\"\\n\")\n",
    "print(\"Coordonnées de l'atome Sc avant symétrie : \",N)\n",
    "print(\"Coordonnées de l'atome Sc après symétrie : \", N_sym)\n",
    "\n"
   ]
  },
  {
   "cell_type": "code",
   "execution_count": 5,
   "id": "4561346b",
   "metadata": {},
   "outputs": [
    {
     "data": {
      "application/vnd.jupyter.widget-view+json": {
       "model_id": "7a2c87f042524819a1f0b509c9eb47ae",
       "version_major": 2,
       "version_minor": 0
      },
      "text/plain": [
       "JsmolView(layout=Layout(align_self='stretch', height='400px'))"
      ]
     },
     "metadata": {},
     "output_type": "display_data"
    }
   ],
   "source": [
    "from pymatgen.core import Lattice, Structure\n",
    "\n",
    "coords = [N, N_sym]\n",
    "lattice = Lattice.from_parameters(a=3.14, b=3.14, c=16.93, alpha=90,\n",
    "                                  beta=90, gamma=120)\n",
    "struct = Structure(lattice, [\"N\", \"N\"], coords)\n",
    "\n",
    "cif_str = CifWriter(struct).write_file(\"structure.cif\")\n",
    "\n",
    "with open(\"structure.cif\", \"r\") as f:\n",
    "    cif_data = f.read()\n",
    "view2 = JsmolView.from_str(cif_data, \"{3 3 3}\")\n",
    "display(view2)"
   ]
  },
  {
   "cell_type": "markdown",
   "id": "fcdfae5e",
   "metadata": {},
   "source": [
    "# Symétrie sur l'atome de Niobium (Nb)"
   ]
  },
  {
   "cell_type": "code",
   "execution_count": 6,
   "id": "5d3a1e8c",
   "metadata": {},
   "outputs": [
    {
     "name": "stdout",
     "output_type": "stream",
     "text": [
      "Opération de symétrie : rotation hélicoidale d'ordre 2 autour de l'axe c\n",
      "Opérateur sous forme matricielle : \n",
      " [[ 1. -1.  0.]\n",
      " [ 1.  0.  0.]\n",
      " [ 0.  0. -1.]]\n",
      "Vecteur de translation : \n",
      " [0.66666667 0.33333333 0.33333333] \n",
      " il y a donc une translation dans la direction a b et c\n",
      "\n",
      "\n",
      "Coordonnées de l'atome Ni avant symétrie :  [0. 0. 0.]\n",
      "Coordonnées de l'atome Ni après symétrie :  [0.66666667 0.33333333 0.33333333]\n"
     ]
    }
   ],
   "source": [
    "n=17\n",
    "Nb_sym = sym_tab[17].operate(Nb)\n",
    "\n",
    "print(\"Opération de symétrie : rotation hélicoidale d'ordre 2 autour de l'axe c\")\n",
    "print(\"Opérateur sous forme matricielle : \\n\", sym_tab[17].rotation_matrix)\n",
    "print(\"Vecteur de translation : \\n\", sym_tab[17].translation_vector,\"\\n il y a donc une translation dans la direction a b et c\")\n",
    "print(\"\\n\")\n",
    "print(\"Coordonnées de l'atome Ni avant symétrie : \",Nb)\n",
    "print(\"Coordonnées de l'atome Ni après symétrie : \", Nb_sym)"
   ]
  },
  {
   "cell_type": "code",
   "execution_count": 7,
   "id": "85828f53",
   "metadata": {},
   "outputs": [
    {
     "data": {
      "application/vnd.jupyter.widget-view+json": {
       "model_id": "b7ae7c0b7aa84daa89f38a7abbe20dac",
       "version_major": 2,
       "version_minor": 0
      },
      "text/plain": [
       "JsmolView(layout=Layout(align_self='stretch', height='400px'))"
      ]
     },
     "metadata": {},
     "output_type": "display_data"
    }
   ],
   "source": [
    "from pymatgen.core import Lattice, Structure\n",
    "coords = [Nb, Nb_sym]\n",
    "lattice = Lattice.from_parameters(a=3.14, b=3.14, c=16.93, alpha=90,beta=90, gamma=120)\n",
    "struct = Structure(lattice, [\"Nb\", \"Nb\"], coords)\n",
    "\n",
    "cif_str = CifWriter(struct).write_file(\"structure.cif\")\n",
    "\n",
    "with open(\"structure.cif\", \"r\") as f:\n",
    "    cif_data = f.read()\n",
    "view2 = JsmolView.from_str(cif_data, \"{3 3 3}\")\n",
    "display(view2)"
   ]
  },
  {
   "cell_type": "markdown",
   "id": "4161c732",
   "metadata": {},
   "source": [
    "# Symétrie sur l'atome de Sodium (Na)"
   ]
  },
  {
   "cell_type": "code",
   "execution_count": 8,
   "id": "6030bac4",
   "metadata": {
    "scrolled": true
   },
   "outputs": [
    {
     "name": "stdout",
     "output_type": "stream",
     "text": [
      "Opération de symétrie : plan miroir\n",
      "Opérateur sous forme matricielle : \n",
      " [[-1.  0.  0.]\n",
      " [-1.  1.  0.]\n",
      " [ 0.  0. -1.]]\n",
      "Vecteur de translation : \n",
      " [0. 0. 0.] \n",
      " Aucune translation donc c'est uniquement une relfexion\n",
      "\n",
      "\n",
      "Coordonnées de l'atome P avant symétrie :  [0.33333333 0.66666667 0.16666667]\n",
      "Coordonnées de l'atome P après symétrie :  [-0.33333333  0.33333333 -0.16666667]\n"
     ]
    }
   ],
   "source": [
    "n=10\n",
    "Na_sym = sym_tab[n].operate(Na)\n",
    "\n",
    "print(\"Opération de symétrie : plan miroir\")\n",
    "print(\"Opérateur sous forme matricielle : \\n\", sym_tab[n].rotation_matrix)\n",
    "print(\"Vecteur de translation : \\n\", sym_tab[n].translation_vector,\"\\n Aucune translation donc c'est uniquement une relfexion\")\n",
    "print(\"\\n\")\n",
    "print(\"Coordonnées de l'atome P avant symétrie : \",Na)\n",
    "print(\"Coordonnées de l'atome P après symétrie : \", Na_sym)"
   ]
  },
  {
   "cell_type": "code",
   "execution_count": 9,
   "id": "7dfb2710",
   "metadata": {},
   "outputs": [
    {
     "data": {
      "application/vnd.jupyter.widget-view+json": {
       "model_id": "7ebc044c7c664e989aa7a1bf6bfe6098",
       "version_major": 2,
       "version_minor": 0
      },
      "text/plain": [
       "JsmolView(layout=Layout(align_self='stretch', height='400px'))"
      ]
     },
     "metadata": {},
     "output_type": "display_data"
    }
   ],
   "source": [
    "from pymatgen.core import Lattice, Structure\n",
    "coords = [Na, Na_sym]\n",
    "lattice = Lattice.from_parameters(a=3.14, b=3.14, c=16.93, alpha=90,beta=90, gamma=120)\n",
    "struct = Structure(lattice, [\"Na\", \"Na\"], coords)\n",
    "\n",
    "cif_str = CifWriter(struct).write_file(\"structure.cif\")\n",
    "\n",
    "with open(\"structure.cif\", \"r\") as f:\n",
    "    cif_data = f.read()\n",
    "view2 = JsmolView.from_str(cif_data, \"{3 3 3}\")\n",
    "display(view2)"
   ]
  }
 ],
 "metadata": {
  "kernelspec": {
   "display_name": "Python 3 (ipykernel)",
   "language": "python",
   "name": "python3"
  },
  "language_info": {
   "codemirror_mode": {
    "name": "ipython",
    "version": 3
   },
   "file_extension": ".py",
   "mimetype": "text/x-python",
   "name": "python",
   "nbconvert_exporter": "python",
   "pygments_lexer": "ipython3",
   "version": "3.9.13"
  }
 },
 "nbformat": 4,
 "nbformat_minor": 5
}
