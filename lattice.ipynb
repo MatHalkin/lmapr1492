{
 "cells": [
  {
   "cell_type": "code",
   "execution_count": 1,
   "id": "7800fc8f",
   "metadata": {},
   "outputs": [],
   "source": [
    "from mp_api.client import MPRester\n",
    "\n",
    "from pymatgen.symmetry.analyzer import SpacegroupAnalyzer"
   ]
  },
  {
   "cell_type": "code",
   "execution_count": 2,
   "id": "74cc808d",
   "metadata": {},
   "outputs": [
    {
     "data": {
      "application/vnd.jupyter.widget-view+json": {
       "model_id": "fec887ac5b59434a81e4f7ffd4c9d613",
       "version_major": 2,
       "version_minor": 0
      },
      "text/plain": [
       "Retrieving MaterialsDoc documents:   0%|          | 0/1 [00:00<?, ?it/s]"
      ]
     },
     "metadata": {},
     "output_type": "display_data"
    }
   ],
   "source": [
    "#Téléchargement de la structure\n",
    "with MPRester(\"SHhfavYW3jn4MGs2FCQ7cG3TWI4Cgj9y\") as m:\n",
    "    structure = m.get_structure_by_material_id(\"mp-7017\")\n",
    "    structure.to(filename=\"NaNbN2.cif\")"
   ]
  },
  {
   "cell_type": "code",
   "execution_count": 3,
   "id": "7abbec93",
   "metadata": {},
   "outputs": [
    {
     "name": "stdout",
     "output_type": "stream",
     "text": [
      "Vecteurs de base du réseau direct : \n",
      "\n",
      "a = ( 5.928981294535283 , 0, 0) \n",
      "\n",
      "b = (0, 5.928981294535283 , 0) \n",
      "\n",
      "c = (0, 0,  5.928981723347184 ) \n",
      "\n",
      "Vecteurs de base du réseau réciproque : \n",
      "\n",
      "a* = ( 0.37197368184490287 , 0, 0) \n",
      "\n",
      "b* = (0, 0.37197368184490287 , 0) \n",
      "\n",
      "c* = (0, 0,  0.3719736853684829 ) \n",
      "\n"
     ]
    }
   ],
   "source": [
    "struct = structure.lattice\n",
    "\n",
    "#Réseau direct\n",
    "\n",
    "print(\"Vecteurs de base du réseau direct : \\n\")\n",
    "print(\"a = (\",struct.a,\", 0, 0) \\n\")\n",
    "print(\"b = (0,\",struct.b,\", 0) \\n\")\n",
    "print(\"c = (0, 0, \",struct.c,\") \\n\")\n",
    "\n",
    "#Réseau réciproque\n",
    "\n",
    "a_rec = struct.reciprocal_lattice_crystallographic.a\n",
    "b_rec = struct.reciprocal_lattice_crystallographic.b\n",
    "c_rec = struct.reciprocal_lattice_crystallographic.c\n",
    "print(\"Vecteurs de base du réseau réciproque : \\n\")\n",
    "print(\"a* = (\",a_rec,\", 0, 0) \\n\")\n",
    "print(\"b* = (0,\",b_rec,\", 0) \\n\")\n",
    "print(\"c* = (0, 0, \",c_rec,\") \\n\")"
   ]
  },
  {
   "cell_type": "code",
   "execution_count": 4,
   "id": "a3d12a52",
   "metadata": {},
   "outputs": [
    {
     "name": "stdout",
     "output_type": "stream",
     "text": [
      "Type de maille :  rhombohedral \n",
      "\n"
     ]
    }
   ],
   "source": [
    "analyser = SpacegroupAnalyzer(structure)\n",
    "\n",
    "#Détermination du type de maille\n",
    "maille = analyser.get_lattice_type()\n",
    "print(\"Type de maille : \",maille,\"\\n\")"
   ]
  },
  {
   "cell_type": "code",
   "execution_count": 5,
   "id": "7d17d862",
   "metadata": {},
   "outputs": [
    {
     "name": "stdout",
     "output_type": "stream",
     "text": [
      "Système cristallin :  trigonal  \n",
      "\n"
     ]
    }
   ],
   "source": [
    "#Détermination du système cristallin\n",
    "syst_crist = analyser.get_crystal_system() #système cristallin\n",
    "print(\"Système cristallin : \",syst_crist,\" \\n\")"
   ]
  },
  {
   "cell_type": "code",
   "execution_count": 6,
   "id": "3434c2d5",
   "metadata": {},
   "outputs": [
    {
     "name": "stdout",
     "output_type": "stream",
     "text": [
      "Groupe ponctuel :  -3m  \n",
      "\n"
     ]
    }
   ],
   "source": [
    "#Détermination du groupe ponctuel\n",
    "groupe = analyser.get_point_group_symbol()\n",
    "print(\"Groupe ponctuel : \",groupe,\" \\n\")"
   ]
  }
 ],
 "metadata": {
  "kernelspec": {
   "display_name": "Python 3 (ipykernel)",
   "language": "python",
   "name": "python3"
  },
  "language_info": {
   "codemirror_mode": {
    "name": "ipython",
    "version": 3
   },
   "file_extension": ".py",
   "mimetype": "text/x-python",
   "name": "python",
   "nbconvert_exporter": "python",
   "pygments_lexer": "ipython3",
   "version": "3.9.13"
  }
 },
 "nbformat": 4,
 "nbformat_minor": 5
}
