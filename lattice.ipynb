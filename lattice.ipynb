{
 "cells": [
  {
   "cell_type": "code",
   "execution_count": 26,
   "id": "56a11c3a",
   "metadata": {},
   "outputs": [
    {
     "name": "stdout",
     "output_type": "stream",
     "text": [
      "je print dans l'ordre: les 3 vecteurs du reseau direct, les 3 vecteurs du reseau réciproque, le type de maille, son systeme cristallin et enfin son groupe ponctuel\n",
      "---------------------\n",
      "0.000000 3.262649 3.262649\n",
      "3.262649 0.000000 3.262649\n",
      "3.262649 3.262649 0.000000\n",
      "---------------------\n",
      "-0.962896 0.962896 0.962896\n",
      "0.962896 -0.962896 0.962896\n",
      "0.962896 0.962896 -0.962896\n",
      "---------------------\n",
      "cubic\n",
      "---------------------\n",
      "cubic\n",
      "---------------------\n",
      "-43m\n"
     ]
    }
   ],
   "source": [
    "from pymatgen.core.lattice import Lattice as L\n",
    "from pymatgen import Structure\n",
    "from pymatgen.symmetry.analyzer import SpacegroupAnalyzer\n",
    "\n",
    "from pymatgen.ext.matproj import MPRester\n",
    "with MPRester(\"HrfUZDx1jL7J7TxiIVp\") as m:\n",
    "    \n",
    "\n",
    "    structure = m.get_structure_by_material_id(\"mp-961693\")\n",
    "print(\"je print dans l'ordre: les 3 vecteurs du reseau direct, les 3 vecteurs du reseau réciproque, le type de maille, son systeme cristallin et enfin son groupe ponctuel\")\n",
    "print(\"---------------------\")\n",
    "print (structure.lattice)\n",
    "print(\"---------------------\")\n",
    "print(structure.lattice.reciprocal_lattice)\n",
    "print(\"---------------------\")\n",
    "print(SpacegroupAnalyzer(structure).get_lattice_type())\n",
    "print(\"---------------------\")\n",
    "print(SpacegroupAnalyzer(structure).get_crystal_system())\n",
    "print(\"---------------------\")\n",
    "print(SpacegroupAnalyzer(structure).get_point_group_symbol())"
   ]
  },
  {
   "cell_type": "code",
   "execution_count": null,
   "id": "eeaa0fdc",
   "metadata": {},
   "outputs": [],
   "source": []
  }
 ],
 "metadata": {
  "kernelspec": {
   "display_name": "Python 3",
   "language": "python",
   "name": "python3"
  },
  "language_info": {
   "codemirror_mode": {
    "name": "ipython",
    "version": 3
   },
   "file_extension": ".py",
   "mimetype": "text/x-python",
   "name": "python",
   "nbconvert_exporter": "python",
   "pygments_lexer": "ipython3",
   "version": "3.6.8"
  }
 },
 "nbformat": 4,
 "nbformat_minor": 5
}
