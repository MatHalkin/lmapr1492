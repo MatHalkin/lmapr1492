{
 "cells": [
  {
   "cell_type": "code",
   "execution_count": 7,
   "id": "9f840380",
   "metadata": {},
   "outputs": [
    {
     "name": "stdout",
     "output_type": "stream",
     "text": [
      "1er pic :\n",
      "Intensité = 57.47795838822343 ;Indices hkl = (1, 1, 1)\n",
      "------------------------------\n",
      "2eme pic :\n",
      "Intensité = 0.16784715918719323 ;Indices hkl = (1, 1, 0)\n",
      "------------------------------\n",
      "3ème pic :\n",
      "Intensité = 100.0 ;Indices hkl = (2, 1, 1)\n"
     ]
    }
   ],
   "source": [
    "from pymatgen.ext.matproj import MPRester\n",
    "from pymatgen import Structure\n",
    "from pymatgen.analysis.diffraction import xrd\n",
    "\n",
    "with MPRester(\"HrfUZDx1jL7J7TxiIVp\") as m:\n",
    "    Struct = m.get_structure_by_material_id(\"mp-961693\")\n",
    "\n",
    "    \n",
    "calc = xrd.XRDCalculator(1.54060) ##rayon CuKa 1.5060 A\n",
    "print(\"1er pic :\")\n",
    "print(\"Intensité =\",calc.get_pattern(Struct).y[0],\";Indices hkl =\", calc.get_pattern(Struct,True).hkls[0][0]['hkl'])\n",
    "print(\"------------------------------\")\n",
    "print(\"2eme pic :\")\n",
    "print(\"Intensité =\",calc.get_pattern(Struct).y[1],\";Indices hkl =\", calc.get_pattern(Struct,True).hkls[1][0]['hkl'])\n",
    "print(\"------------------------------\")\n",
    "print(\"3ème pic :\")\n",
    "print(\"Intensité =\",calc.get_pattern(Struct).y[2],\";Indices hkl =\", calc.get_pattern(Struct,True).hkls[2][0]['hkl'])"
   ]
  },
  {
   "cell_type": "code",
   "execution_count": null,
   "id": "f4af531f",
   "metadata": {},
   "outputs": [],
   "source": []
  }
 ],
 "metadata": {
  "kernelspec": {
   "display_name": "Python 3",
   "language": "python",
   "name": "python3"
  },
  "language_info": {
   "codemirror_mode": {
    "name": "ipython",
    "version": 3
   },
   "file_extension": ".py",
   "mimetype": "text/x-python",
   "name": "python",
   "nbconvert_exporter": "python",
   "pygments_lexer": "ipython3",
   "version": "3.6.8"
  }
 },
 "nbformat": 4,
 "nbformat_minor": 5
}
