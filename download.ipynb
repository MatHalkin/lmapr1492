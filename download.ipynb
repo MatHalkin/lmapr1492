{
  "metadata": {
    "language_info": {
      "codemirror_mode": {
        "name": "python",
        "version": 3
      },
      "file_extension": ".py",
      "mimetype": "text/x-python",
      "name": "python",
      "nbconvert_exporter": "python",
      "pygments_lexer": "ipython3",
      "version": "3.8"
    },
    "kernelspec": {
      "name": "python",
      "display_name": "Python (Pyodide)",
      "language": "python"
    }
  },
  "nbformat_minor": 4,
  "nbformat": 4,
  "cells": [
    {
      "cell_type": "code",
      "source": "from pymatgen.ext.matproj import MPRester\nwith MPRester(\"hmw6pW1cor3J4GZAFSNqM0zr9UVBkxjF\") as m:\n\n    # Structure for material id\n    structure = m.get_structure_by_material_id(\"mp-961693\")\n\n    # Dos for material id\n    dos = m.get_dos_by_material_id(\"mp-961693\")\n\n    # Bandstructure for material id\n    bandstructure = m.get_bandstructure_by_material_id(\"mp-961693\")",
      "metadata": {
        "trusted": true
      },
      "execution_count": 2,
      "outputs": [
        {
          "ename": "<class 'ModuleNotFoundError'>",
          "evalue": "No module named 'pymatgen'",
          "traceback": [
            "\u001b[0;31m---------------------------------------------------------------------------\u001b[0m",
            "\u001b[0;31mModuleNotFoundError\u001b[0m                       Traceback (most recent call last)",
            "Cell \u001b[0;32mIn[2], line 1\u001b[0m\n\u001b[0;32m----> 1\u001b[0m \u001b[38;5;28;01mfrom\u001b[39;00m \u001b[38;5;21;01mpymatgen\u001b[39;00m\u001b[38;5;21;01m.\u001b[39;00m\u001b[38;5;21;01mext\u001b[39;00m\u001b[38;5;21;01m.\u001b[39;00m\u001b[38;5;21;01mmatproj\u001b[39;00m \u001b[38;5;28;01mimport\u001b[39;00m MPRester\n\u001b[1;32m      2\u001b[0m \u001b[38;5;28;01mwith\u001b[39;00m MPRester(\u001b[38;5;124m\"\u001b[39m\u001b[38;5;124mHyfUIH7nOGea4sWi3HeF3B4Yjjv5SgwQ\u001b[39m\u001b[38;5;124m\"\u001b[39m) \u001b[38;5;28;01mas\u001b[39;00m m:\n\u001b[1;32m      3\u001b[0m \n\u001b[1;32m      4\u001b[0m     \u001b[38;5;66;03m# Structure for material id\u001b[39;00m\n\u001b[1;32m      5\u001b[0m     structure \u001b[38;5;241m=\u001b[39m m\u001b[38;5;241m.\u001b[39mget_structure_by_material_id(\u001b[38;5;124m\"\u001b[39m\u001b[38;5;124mmp-961693\u001b[39m\u001b[38;5;124m\"\u001b[39m)\n",
            "\u001b[0;31mModuleNotFoundError\u001b[0m: No module named 'pymatgen'"
          ],
          "output_type": "error"
        }
      ]
    },
    {
      "cell_type": "code",
      "source": "",
      "metadata": {},
      "execution_count": null,
      "outputs": []
    }
  ]
}
