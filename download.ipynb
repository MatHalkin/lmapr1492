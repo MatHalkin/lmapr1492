{
 "cells": [
  {
   "cell_type": "code",
   "execution_count": 18,
   "id": "b980fda4",
   "metadata": {},
   "outputs": [],
   "source": [
    "from pymatgen.ext.matproj import MPRester"
   ]
  },
  {
   "cell_type": "code",
   "execution_count": 19,
   "id": "2eb1d2af",
   "metadata": {},
   "outputs": [],
   "source": [
    "with MPRester(\"CEEbAW2taTmupi7NIXR\") as mpr:\n",
    "\n",
    "    # Structure for material id\n",
    "    structure = mpr.get_structure_by_material_id(\"mp-961675\")\n",
    "    structure.to(filename=\"ScNiP.cif\")"
   ]
  }
 ],
 "metadata": {
  "kernelspec": {
   "display_name": "Python 3",
   "language": "python",
   "name": "python3"
  },
  "language_info": {
   "codemirror_mode": {
    "name": "ipython",
    "version": 3
   },
   "file_extension": ".py",
   "mimetype": "text/x-python",
   "name": "python",
   "nbconvert_exporter": "python",
   "pygments_lexer": "ipython3",
   "version": "3.6.8"
  }
 },
 "nbformat": 4,
 "nbformat_minor": 5
}
